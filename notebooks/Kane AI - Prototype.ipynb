{
 "cells": [
  {
   "cell_type": "markdown",
   "id": "4f1acd5f",
   "metadata": {},
   "source": [
    "# Prototype for Kane AI"
   ]
  },
  {
   "cell_type": "markdown",
   "id": "4d59250a",
   "metadata": {},
   "source": [
    "Tic Tac Toe Game Class"
   ]
  },
  {
   "cell_type": "code",
   "execution_count": 16,
   "id": "9068adbe",
   "metadata": {},
   "outputs": [],
   "source": [
    "class TicTacToe:\n",
    "    def __init__(self):\n",
    "        self.board = [' ' for _ in range(9)]  # 3x3 board\n",
    "        self.current_winner = None  # Track the winner!\n",
    "\n",
    "    def print_board(self):\n",
    "        for row in [self.board[i*3:(i+1)*3] for i in range(3)]:\n",
    "            print('| ' + ' | '.join(row) + ' |')\n",
    "\n",
    "    def available_moves(self):\n",
    "        return [i for i, x in enumerate(self.board) if x == ' ']\n",
    "\n",
    "    def empty_cells(self):\n",
    "        return ' ' in self.board\n",
    "\n",
    "    def make_move(self, square, letter):\n",
    "        if self.board[square] == ' ':\n",
    "            self.board[square] = letter\n",
    "            if self.check_winner(square, letter):\n",
    "                self.current_winner = letter\n",
    "            return True\n",
    "        return False\n",
    "\n",
    "    def check_winner(self, square, letter):\n",
    "        # Check row\n",
    "        row_ind = square // 3\n",
    "        row = self.board[row_ind*3:(row_ind+1)*3]\n",
    "        if all([s == letter for s in row]):\n",
    "            return True\n",
    "\n",
    "        # Check column\n",
    "        col_ind = square % 3\n",
    "        column = [self.board[col_ind + i*3] for i in range(3)]\n",
    "        if all([s == letter for s in column]):\n",
    "            return True\n",
    "\n",
    "        # Check diagonals\n",
    "        if square % 2 == 0:\n",
    "            diagonal1 = [self.board[i] for i in [0, 4, 8]]\n",
    "            if all([s == letter for s in diagonal1]):\n",
    "                return True\n",
    "            diagonal2 = [self.board[i] for i in [2, 4, 6]]\n",
    "            if all([s == letter for s in diagonal2]):\n",
    "                return True\n",
    "\n",
    "        return False\n"
   ]
  },
  {
   "cell_type": "markdown",
   "id": "330ef049",
   "metadata": {},
   "source": [
    "Kane AI Prototype Class"
   ]
  },
  {
   "cell_type": "code",
   "execution_count": 17,
   "id": "5af0d068",
   "metadata": {},
   "outputs": [],
   "source": [
    "import random\n",
    "\n",
    "class KanePrototype:\n",
    "    def __init__(self, letter):\n",
    "        self.letter = letter\n",
    "\n",
    "    def get_move(self, game):\n",
    "        # First, check if AI Alpha can win in the next move\n",
    "        for move in game.available_moves():\n",
    "            game_copy = TicTacToe()\n",
    "            game_copy.board = game.board.copy()\n",
    "            game_copy.make_move(move, self.letter)\n",
    "            if game_copy.current_winner == self.letter:\n",
    "                return move  # Return the winning move\n",
    "\n",
    "        # If no winning move, choose a random available space\n",
    "        square = random.choice(game.available_moves())\n",
    "        return square"
   ]
  },
  {
   "cell_type": "markdown",
   "id": "8bbc2ec7",
   "metadata": {},
   "source": [
    "Human Player Class <br>\n",
    "This class is for playing against the AI manually:"
   ]
  },
  {
   "cell_type": "code",
   "execution_count": 18,
   "id": "6ed2b149",
   "metadata": {},
   "outputs": [],
   "source": [
    "class HumanPlayer:\n",
    "    def __init__(self, letter):\n",
    "        self.letter = letter\n",
    "\n",
    "    def get_move(self, game):\n",
    "        valid_square = False\n",
    "        while not valid_square:\n",
    "            square = input(f\"{self.letter}'s turn. Input move (0-8): \")\n",
    "            try:\n",
    "                val = int(square)\n",
    "                if val not in game.available_moves():\n",
    "                    raise ValueError\n",
    "                valid_square = True\n",
    "            except ValueError:\n",
    "                print(\"Invalid square. Try again.\")\n",
    "\n",
    "        return val"
   ]
  },
  {
   "cell_type": "markdown",
   "id": "abb53df8",
   "metadata": {},
   "source": [
    "Game Play Function <br>\n",
    "This function manages the game play, alternating between players:"
   ]
  },
  {
   "cell_type": "code",
   "execution_count": 19,
   "id": "bcccc392",
   "metadata": {},
   "outputs": [],
   "source": [
    "import time\n",
    "import random\n",
    "\n",
    "def play(game, player_x, player_o, print_game=True):\n",
    "    if print_game:\n",
    "        game.print_board()\n",
    "\n",
    "    letter = 'X'  # Starting letter\n",
    "    while game.empty_cells():\n",
    "        if letter == 'O':\n",
    "            square = player_o.get_move(game)\n",
    "        else:\n",
    "            square = player_x.get_move(game)\n",
    "\n",
    "        if game.make_move(square, letter):\n",
    "            if print_game:\n",
    "                print(f\"{letter} makes a move to square {square}\")\n",
    "                game.print_board()\n",
    "                print('')  # Empty line for readability\n",
    "\n",
    "            if game.current_winner:\n",
    "                if print_game:\n",
    "                    print(f\"{letter} wins!\")\n",
    "                return letter  # Ends the loop and exits the game\n",
    "            letter = 'O' if letter == 'X' else 'X'  # Switches player\n",
    "\n",
    "        time.sleep(0.8)\n",
    "\n",
    "    if print_game:\n",
    "        print(\"It's a tie!\")\n"
   ]
  },
  {
   "cell_type": "markdown",
   "id": "8b258881",
   "metadata": {},
   "source": [
    "Putting It All Together <br>\n",
    "Now we can run a game by creating an instance of TicTacToe, KanePrototype, and HumanPlayer:"
   ]
  },
  {
   "cell_type": "code",
   "execution_count": 22,
   "id": "e3455b1c",
   "metadata": {},
   "outputs": [
    {
     "name": "stdout",
     "output_type": "stream",
     "text": [
      "|   |   |   |\n",
      "|   |   |   |\n",
      "|   |   |   |\n",
      "X makes a move to square 7\n",
      "|   |   |   |\n",
      "|   |   |   |\n",
      "|   | X |   |\n",
      "\n",
      "O's turn. Input move (0-8): 0\n",
      "O makes a move to square 0\n",
      "| O |   |   |\n",
      "|   |   |   |\n",
      "|   | X |   |\n",
      "\n",
      "X makes a move to square 5\n",
      "| O |   |   |\n",
      "|   |   | X |\n",
      "|   | X |   |\n",
      "\n",
      "O's turn. Input move (0-8): 1\n",
      "O makes a move to square 1\n",
      "| O | O |   |\n",
      "|   |   | X |\n",
      "|   | X |   |\n",
      "\n",
      "X makes a move to square 3\n",
      "| O | O |   |\n",
      "| X |   | X |\n",
      "|   | X |   |\n",
      "\n",
      "O's turn. Input move (0-8): 2\n",
      "O makes a move to square 2\n",
      "| O | O | O |\n",
      "| X |   | X |\n",
      "|   | X |   |\n",
      "\n",
      "O wins!\n"
     ]
    }
   ],
   "source": [
    "if __name__ == '__main__':\n",
    "    x_player = KanePrototype('X')\n",
    "    o_player = HumanPlayer('O')\n",
    "    t = TicTacToe()\n",
    "    play(t, x_player, o_player, print_game=True)"
   ]
  },
  {
   "cell_type": "markdown",
   "id": "0c256855",
   "metadata": {},
   "source": [
    "new tests to be added "
   ]
  },
  {
   "cell_type": "code",
   "execution_count": null,
   "id": "dcfd9d6d",
   "metadata": {},
   "outputs": [],
   "source": []
  }
 ],
 "metadata": {
  "kernelspec": {
   "display_name": "Python 3 (ipykernel)",
   "language": "python",
   "name": "python3"
  },
  "language_info": {
   "codemirror_mode": {
    "name": "ipython",
    "version": 3
   },
   "file_extension": ".py",
   "mimetype": "text/x-python",
   "name": "python",
   "nbconvert_exporter": "python",
   "pygments_lexer": "ipython3",
   "version": "3.9.7"
  }
 },
 "nbformat": 4,
 "nbformat_minor": 5
}
